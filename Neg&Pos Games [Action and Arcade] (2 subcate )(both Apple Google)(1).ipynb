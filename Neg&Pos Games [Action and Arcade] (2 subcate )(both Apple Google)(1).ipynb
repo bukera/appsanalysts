{
 "cells": [
  {
   "cell_type": "code",
   "execution_count": 1,
   "metadata": {},
   "outputs": [
    {
     "name": "stderr",
     "output_type": "stream",
     "text": [
      "C:\\Users\\zmz22\\Anaconda3\\lib\\site-packages\\gensim\\utils.py:1212: UserWarning: detected Windows; aliasing chunkize to chunkize_serial\n",
      "  warnings.warn(\"detected Windows; aliasing chunkize to chunkize_serial\")\n",
      "C:\\Users\\zmz22\\Anaconda3\\lib\\site-packages\\nltk\\twitter\\__init__.py:20: UserWarning: The twython library has not been installed. Some functionality from the twitter package will not be available.\n",
      "  warnings.warn(\"The twython library has not been installed. \"\n"
     ]
    }
   ],
   "source": [
    "import pandas as pd\n",
    "import csv\n",
    "import re\n",
    "import gensim\n",
    "from gensim.utils import simple_preprocess\n",
    "from gensim.parsing.preprocessing import STOPWORDS\n",
    "from nltk.stem import WordNetLemmatizer, SnowballStemmer\n",
    "from nltk.stem.porter import *\n",
    "import numpy as np\n",
    "import gensim\n",
    "from gensim import corpora, models\n",
    "from nltk.sentiment.vader import SentimentIntensityAnalyzer\n",
    "import time\n",
    "from pprint import pprint\n",
    "\n",
    "stemmer = SnowballStemmer(\"english\") # the stopwords \n",
    "def remain_english(line):\n",
    "    rule =re.compile(\"[^a-z^A-Z]\")\n",
    "    line = rule.sub('',line)\n",
    "    return line\n",
    "def lemmatize_stemming(text):\n",
    "    return stemmer.stem(WordNetLemmatizer().lemmatize(text, pos='v')) # remain problems\n",
    "\n",
    "# Tokenize and lemmatize\n",
    "def preprocess(text):\n",
    "    result=[]\n",
    "    for token in gensim.utils.simple_preprocess(str(text)) :\n",
    "        if token not in gensim.parsing.preprocessing.STOPWORDS and len(token) > 3:\n",
    "#             result.append(lemmatize_stemming(token))\n",
    "            result.append(remain_english(lemmatize_stemming((token))).lower()) # take out not english and return into verb, and lower it \n",
    "    return result"
   ]
  },
  {
   "cell_type": "code",
   "execution_count": 3,
   "metadata": {},
   "outputs": [],
   "source": [
    "# read file into pandas\n",
    "import pandas as pd\n",
    "\n",
    "fileGP = r'C:\\Users\\zmz22\\Downloads\\GamesReview.csv'\n",
    "fileApple = r'C:\\Users\\zmz22\\Downloads\\apple-games-reviews.csv'\n",
    "\n",
    "df1 = pd.read_csv(fileGP)\n",
    "df2 = pd.read_csv(fileApple)\n",
    "# take the target subcate reviews (Apple and GP)\n",
    "dfActionGP = df1[df1.appSubGener.str.contains('Action')] # the Action games from GP\n",
    "dfArcadeGP = df1[df1.appSubGener.str.contains('Arcade')] # the Arcade games from GP\n",
    "dfActionAp = df2[df2.genres.str.contains('Action')] # the Action games from Apple \n",
    "dfArcadeAp = df2[df2.genres.str.contains('Arcade')] # the Arcade games from Apple \n"
   ]
  },
  {
   "cell_type": "markdown",
   "metadata": {},
   "source": [
    "# Action Part"
   ]
  },
  {
   "cell_type": "code",
   "execution_count": 4,
   "metadata": {},
   "outputs": [
    {
     "name": "stdout",
     "output_type": "stream",
     "text": [
      "targe subcate reviews num of GP and Apple: 33537 382637\n",
      "number of reviews text: 416174\n",
      "number of neg: 87589\n",
      "number of inconsistant neg reviews text(actually a pos reviews): 481\n",
      "number of pos: 284598\n",
      "number of inconsistant pos reviews text(actually an neg reviews): 841\n"
     ]
    }
   ],
   "source": [
    "# analyse Action part\n",
    "df1 = dfActionGP\n",
    "df2 = dfActionAp\n",
    "gpNum = dfActionGP.count()['text']\n",
    "ApNum = dfActionAp.count()['text'] # text(reviews) number from apple\n",
    "print('targe subcate reviews num of GP and Apple:',gpNum,ApNum)\n",
    "\n",
    "sid = SentimentIntensityAnalyzer()\n",
    "text_num = gpNum + ApNum\n",
    "documentNeg=[]\n",
    "documentPos=[]\n",
    "inconsistantNum1 = 0 # inconsistant reviews number in low rating reviews\n",
    "inconsistantNum2 = 0\n",
    "for i in df1.score.index:\n",
    "    if(df1.score[i]<3): # low rating reviews\n",
    "#         print(sid.polarity_scores(df1.text[i])['neg'])\n",
    "        if(sid.polarity_scores(str(df1.text[i]))['pos'] > 0.5): # 如果是这条评论的sensitive分析分数显示这条评论其实是负面的,threhold = 0.5\n",
    "            inconsistantNum1 += 1\n",
    "        else:\n",
    "            documentNeg.append(df1.text[i])             \n",
    "\n",
    "    if(df1.score[i]>3): # high rating reviews\n",
    "        if(sid.polarity_scores(str(df1.text[i]))['neg'] > 0.5): # if the neg score is high, not use this review,threhold = 0.5\n",
    "            inconsistantNum2 += 1\n",
    "        else:\n",
    "            documentPos.append(df1.text[i]) \n",
    "            \n",
    "for j in df2.score.index:\n",
    "    if(df2.score[j]<3): # low rating reviews\n",
    "        if(sid.polarity_scores(str(df2.text[j]))['pos'] > 0.5): # 如果是这条评论的sensitive分析分数显示这条评论其实是负面的,threhold = 0.5\n",
    "            inconsistantNum1 += 1\n",
    "        else:\n",
    "            documentNeg.append(df2.text[j])             \n",
    "    if(df2.score[j]>3): # low rating reviews\n",
    "        if(sid.polarity_scores(str(df2.text[j]))['neg'] > 0.5): # if the neg score is high, not use this review,threhold = 0.5\n",
    "            inconsistantNum2 += 1\n",
    "        else:\n",
    "            documentPos.append(df2.text[j])      \n",
    "                        \n",
    "print('number of reviews text:',text_num)\n",
    "print('number of neg:',len(documentNeg))\n",
    "print('number of inconsistant neg reviews text(actually a pos reviews):',inconsistantNum1)\n",
    "print('number of pos:',len(documentPos))\n",
    "print('number of inconsistant pos reviews text(actually an neg reviews):',inconsistantNum2)\n"
   ]
  },
  {
   "cell_type": "code",
   "execution_count": 5,
   "metadata": {},
   "outputs": [
    {
     "name": "stdout",
     "output_type": "stream",
     "text": [
      "made doc_term_matrix\n",
      "object num 87589\n",
      "Fitting Time: 2536.417199611664\n",
      "Topic: 0 \n",
      "Words: 0.105*\"game\" + 0.054*\"play\" + 0.046*\"crash\" + 0.040*\"time\" + 0.027*\"screen\" + 0.023*\"work\" + 0.021*\"load\" + 0.020*\"open\" + 0.019*\"start\" + 0.015*\"updat\"\n",
      "Topic: 1 \n",
      "Words: 0.047*\"kill\" + 0.045*\"shoot\" + 0.030*\"weapon\" + 0.020*\"gun\" + 0.017*\"zombi\" + 0.016*\"need\" + 0.016*\"mission\" + 0.014*\"like\" + 0.013*\"tank\" + 0.011*\"car\"\n",
      "Topic: 2 \n",
      "Words: 0.071*\"game\" + 0.050*\"money\" + 0.035*\"spend\" + 0.020*\"play\" + 0.015*\"upgrad\" + 0.014*\"time\" + 0.010*\"purchas\" + 0.009*\"want\" + 0.009*\"gold\" + 0.008*\"coin\"\n",
      "Topic: 3 \n",
      "Words: 0.051*\"connect\" + 0.038*\"server\" + 0.034*\"game\" + 0.031*\"work\" + 0.029*\"play\" + 0.027*\"say\" + 0.021*\"onlin\" + 0.019*\"internet\" + 0.018*\"wifi\" + 0.018*\"error\"\n",
      "Topic: 4 \n",
      "Words: 0.100*\"level\" + 0.060*\"game\" + 0.057*\"star\" + 0.017*\"imposs\" + 0.017*\"rat\" + 0.017*\"challeng\" + 0.015*\"beat\" + 0.014*\"score\" + 0.013*\"rate\" + 0.013*\"time\"\n",
      "Topic: 5 \n",
      "Words: 0.042*\"player\" + 0.042*\"game\" + 0.024*\"play\" + 0.019*\"time\" + 0.017*\"lose\" + 0.017*\"match\" + 0.013*\"level\" + 0.012*\"attack\" + 0.011*\"team\" + 0.010*\"battl\"\n",
      "Topic: 6 \n",
      "Words: 0.093*\"game\" + 0.024*\"like\" + 0.017*\"graphic\" + 0.016*\"good\" + 0.016*\"control\" + 0.012*\"look\" + 0.011*\"play\" + 0.011*\"better\" + 0.010*\"gameplay\" + 0.010*\"great\"\n",
      "Topic: 7 \n",
      "Words: 0.027*\"like\" + 0.024*\"control\" + 0.018*\"jump\" + 0.017*\"button\" + 0.014*\"hard\" + 0.014*\"screen\" + 0.013*\"block\" + 0.013*\"right\" + 0.011*\"thing\" + 0.010*\"go\"\n",
      "Topic: 8 \n",
      "Words: 0.069*\"updat\" + 0.030*\"game\" + 0.021*\"purchas\" + 0.018*\"support\" + 0.014*\"account\" + 0.014*\"custom\" + 0.012*\"say\" + 0.012*\"buy\" + 0.012*\"review\" + 0.011*\"issu\"\n",
      "Topic: 9 \n",
      "Words: 0.144*\"game\" + 0.059*\"play\" + 0.032*\"time\" + 0.023*\"like\" + 0.017*\"watch\" + 0.016*\"want\" + 0.015*\"second\" + 0.014*\"free\" + 0.012*\"download\" + 0.012*\"delet\"\n"
     ]
    }
   ],
   "source": [
    "# negtive LDA  reviews analyse\n",
    "document = documentNeg\n",
    "doc_clean = [preprocess(doc) for doc in document]\n",
    "\n",
    "dictionary = corpora.Dictionary(doc_clean)\n",
    "\n",
    "# 使用上面的词典，将转换文档列表（语料）变成 DT 矩阵\n",
    "doc_term_matrix = [dictionary.doc2bow(doc) for doc in doc_clean]\n",
    "print('made doc_term_matrix')\n",
    "\n",
    "Lda = gensim.models.ldamodel.LdaModel\n",
    "print('object num',len(doc_term_matrix))\n",
    "start = time.time()\n",
    "lda_model = gensim.models.LdaMulticore(doc_term_matrix, num_topics=10, id2word=dictionary, passes=100, workers=4)\n",
    "# result = lda_model.print_topics(num_words=10)\n",
    "end = time.time()\n",
    "print ('Fitting Time:',end-start)\n",
    "for idx, topic in lda_model.print_topics(-1):\n",
    "    print('Topic: {} \\nWords: {}'.format(idx, topic))\n",
    "# print(result)"
   ]
  },
  {
   "cell_type": "code",
   "execution_count": 6,
   "metadata": {},
   "outputs": [
    {
     "name": "stdout",
     "output_type": "stream",
     "text": [
      "object num 284598\n",
      "Fitting Time: 8687.176492452621\n",
      "Topic: 0 \n",
      "Words: 0.084*\"game\" + 0.041*\"great\" + 0.037*\"control\" + 0.035*\"graphic\" + 0.027*\"version\" + 0.019*\"gameplay\" + 0.018*\"iphon\" + 0.014*\"updat\" + 0.014*\"good\" + 0.012*\"work\"\n",
      "Topic: 1 \n",
      "Words: 0.024*\"like\" + 0.021*\"jump\" + 0.017*\"bird\" + 0.014*\"sound\" + 0.013*\"turn\" + 0.012*\"ball\" + 0.012*\"sonic\" + 0.012*\"button\" + 0.010*\"right\" + 0.009*\"music\"\n",
      "Topic: 2 \n",
      "Words: 0.056*\"game\" + 0.025*\"money\" + 0.018*\"time\" + 0.016*\"spend\" + 0.014*\"play\" + 0.014*\"upgrad\" + 0.012*\"free\" + 0.010*\"coin\" + 0.010*\"great\" + 0.009*\"good\"\n",
      "Topic: 3 \n",
      "Words: 0.049*\"like\" + 0.030*\"zombi\" + 0.028*\"shoot\" + 0.025*\"gun\" + 0.024*\"kill\" + 0.023*\"weapon\" + 0.017*\"need\" + 0.011*\"thing\" + 0.010*\"car\" + 0.009*\"think\"\n",
      "Topic: 4 \n",
      "Words: 0.098*\"level\" + 0.055*\"game\" + 0.039*\"challeng\" + 0.027*\"hard\" + 0.027*\"easi\" + 0.025*\"play\" + 0.023*\"beat\" + 0.022*\"time\" + 0.017*\"score\" + 0.016*\"addict\"\n",
      "Topic: 5 \n",
      "Words: 0.188*\"game\" + 0.134*\"love\" + 0.058*\"play\" + 0.057*\"great\" + 0.051*\"time\" + 0.046*\"awesom\" + 0.033*\"addict\" + 0.018*\"thank\" + 0.013*\"wish\" + 0.010*\"wait\"\n",
      "Topic: 6 \n",
      "Words: 0.198*\"game\" + 0.067*\"play\" + 0.045*\"good\" + 0.044*\"like\" + 0.033*\"best\" + 0.021*\"think\" + 0.020*\"free\" + 0.019*\"amaz\" + 0.019*\"love\" + 0.017*\"addict\"\n",
      "Topic: 7 \n",
      "Words: 0.070*\"game\" + 0.060*\"like\" + 0.041*\"charact\" + 0.037*\"cool\" + 0.028*\"differ\" + 0.021*\"thing\" + 0.018*\"love\" + 0.015*\"think\" + 0.014*\"mayb\" + 0.014*\"great\"\n",
      "Topic: 8 \n",
      "Words: 0.093*\"game\" + 0.048*\"play\" + 0.038*\"updat\" + 0.025*\"time\" + 0.022*\"crash\" + 0.021*\"problem\" + 0.017*\"love\" + 0.017*\"stop\" + 0.016*\"work\" + 0.015*\"start\"\n",
      "Topic: 9 \n",
      "Words: 0.036*\"peopl\" + 0.027*\"like\" + 0.027*\"game\" + 0.026*\"player\" + 0.017*\"updat\" + 0.016*\"multiplay\" + 0.016*\"friend\" + 0.015*\"mode\" + 0.014*\"think\" + 0.014*\"play\"\n"
     ]
    }
   ],
   "source": [
    "# positive LDA reviews analyse\n",
    "document = documentPos\n",
    "doc_clean = [preprocess(doc) for doc in document]\n",
    "\n",
    "dictionary = corpora.Dictionary(doc_clean)\n",
    "# 使用上面的词典，将转换文档列表（语料）变成 DT 矩阵\n",
    "doc_term_matrix = [dictionary.doc2bow(doc) for doc in doc_clean]\n",
    "Lda = gensim.models.ldamodel.LdaModel\n",
    "print('object num',len(doc_term_matrix))\n",
    "start = time.time()\n",
    "lda_model = gensim.models.LdaMulticore(doc_term_matrix, num_topics=10, id2word=dictionary, passes=100, workers=4)\n",
    "# result = lda_model.print_topics(num_words=10)\n",
    "end = time.time()\n",
    "print ('Fitting Time:',end-start)\n",
    "for idx, topic in lda_model.print_topics(-1):\n",
    "    print('Topic: {} \\nWords: {}'.format(idx, topic))\n",
    "# print(result)"
   ]
  },
  {
   "cell_type": "markdown",
   "metadata": {},
   "source": [
    "# The Arcade Part"
   ]
  },
  {
   "cell_type": "code",
   "execution_count": 7,
   "metadata": {},
   "outputs": [
    {
     "name": "stdout",
     "output_type": "stream",
     "text": [
      "targe subcate reviews num of GP and Apple: 12725 330051\n",
      "number of reviews text: 342776\n",
      "number of neg: 67945\n",
      "number of inconsistant neg reviews text(actually a pos reviews): 419\n",
      "number of pos: 238348\n",
      "number of inconsistant pos reviews text(actually an neg reviews): 663\n"
     ]
    }
   ],
   "source": [
    "# analyse Arcade part\n",
    "df1 = dfArcadeGP\n",
    "df2 = dfArcadeAp\n",
    "gpNum = dfArcadeGP.count()['text']\n",
    "ApNum = dfArcadeAp.count()['text'] # text(reviews) number from apple\n",
    "print('targe subcate reviews num of GP and Apple:',gpNum,ApNum)\n",
    "\n",
    "sid = SentimentIntensityAnalyzer()\n",
    "text_num = gpNum + ApNum\n",
    "documentNeg=[]\n",
    "documentPos=[]\n",
    "inconsistantNum1 = 0 # inconsistant reviews number in low rating reviews\n",
    "inconsistantNum2 = 0\n",
    "for i in df1.score.index:\n",
    "    if(df1.score[i]<3): # low rating reviews\n",
    "#         print(sid.polarity_scores(df1.text[i])['neg'])\n",
    "        if(sid.polarity_scores(str(df1.text[i]))['pos'] > 0.5): # 如果是这条评论的sensitive分析分数显示这条评论其实是负面的,threhold = 0.5\n",
    "            inconsistantNum1 += 1\n",
    "        else:\n",
    "            documentNeg.append(df1.text[i])             \n",
    "\n",
    "    if(df1.score[i]>3): # high rating reviews\n",
    "        if(sid.polarity_scores(str(df1.text[i]))['neg'] > 0.5): # if the neg score is high, not use this review,threhold = 0.5\n",
    "            inconsistantNum2 += 1\n",
    "        else:\n",
    "            documentPos.append(df1.text[i]) \n",
    "            \n",
    "for j in df2.score.index:\n",
    "    if(df2.score[j]<3): # low rating reviews\n",
    "        if(sid.polarity_scores(str(df2.text[j]))['pos'] > 0.5): # 如果是这条评论的sensitive分析分数显示这条评论其实是负面的,threhold = 0.5\n",
    "            inconsistantNum1 += 1\n",
    "        else:\n",
    "            documentNeg.append(df2.text[j])             \n",
    "    if(df2.score[j]>3): # low rating reviews\n",
    "        if(sid.polarity_scores(str(df2.text[j]))['neg'] > 0.5): # if the neg score is high, not use this review,threhold = 0.5\n",
    "            inconsistantNum2 += 1\n",
    "        else:\n",
    "            documentPos.append(df2.text[j])      \n",
    "                        \n",
    "print('number of reviews text:',text_num)\n",
    "print('number of neg:',len(documentNeg))\n",
    "print('number of inconsistant neg reviews text(actually a pos reviews):',inconsistantNum1)\n",
    "print('number of pos:',len(documentPos))\n",
    "print('number of inconsistant pos reviews text(actually an neg reviews):',inconsistantNum2)\n"
   ]
  },
  {
   "cell_type": "code",
   "execution_count": 8,
   "metadata": {},
   "outputs": [
    {
     "name": "stdout",
     "output_type": "stream",
     "text": [
      "made doc_term_matrix\n",
      "object num 67945\n",
      "Fitting Time: 1642.3280847072601\n",
      "Topic: 0 \n",
      "Words: 0.137*\"game\" + 0.036*\"like\" + 0.030*\"play\" + 0.029*\"time\" + 0.019*\"stupid\" + 0.018*\"score\" + 0.017*\"thing\" + 0.016*\"wast\" + 0.016*\"hate\" + 0.015*\"bore\"\n",
      "Topic: 1 \n",
      "Words: 0.079*\"game\" + 0.033*\"like\" + 0.031*\"review\" + 0.030*\"version\" + 0.027*\"star\" + 0.022*\"updat\" + 0.018*\"play\" + 0.017*\"peopl\" + 0.016*\"think\" + 0.014*\"chang\"\n",
      "Topic: 2 \n",
      "Words: 0.125*\"game\" + 0.055*\"play\" + 0.030*\"time\" + 0.029*\"watch\" + 0.023*\"second\" + 0.018*\"add\" + 0.012*\"free\" + 0.012*\"minut\" + 0.012*\"like\" + 0.011*\"annoy\"\n",
      "Topic: 3 \n",
      "Words: 0.040*\"purchas\" + 0.022*\"support\" + 0.020*\"race\" + 0.016*\"spin\" + 0.012*\"issu\" + 0.011*\"develop\" + 0.011*\"buy\" + 0.011*\"custom\" + 0.011*\"account\" + 0.010*\"say\"\n",
      "Topic: 4 \n",
      "Words: 0.174*\"level\" + 0.043*\"game\" + 0.027*\"play\" + 0.021*\"time\" + 0.020*\"challeng\" + 0.019*\"pass\" + 0.018*\"imposs\" + 0.017*\"beat\" + 0.012*\"live\" + 0.012*\"like\"\n",
      "Topic: 5 \n",
      "Words: 0.055*\"mode\" + 0.053*\"connect\" + 0.029*\"tabl\" + 0.024*\"say\" + 0.023*\"facebook\" + 0.021*\"internet\" + 0.020*\"onlin\" + 0.020*\"friend\" + 0.019*\"wifi\" + 0.019*\"server\"\n",
      "Topic: 6 \n",
      "Words: 0.067*\"game\" + 0.050*\"money\" + 0.028*\"spend\" + 0.028*\"play\" + 0.026*\"coin\" + 0.020*\"upgrad\" + 0.017*\"time\" + 0.013*\"earn\" + 0.011*\"want\" + 0.010*\"like\"\n",
      "Topic: 7 \n",
      "Words: 0.097*\"game\" + 0.054*\"play\" + 0.036*\"updat\" + 0.035*\"crash\" + 0.031*\"time\" + 0.023*\"work\" + 0.018*\"start\" + 0.018*\"screen\" + 0.017*\"open\" + 0.015*\"load\"\n",
      "Topic: 8 \n",
      "Words: 0.032*\"game\" + 0.030*\"control\" + 0.019*\"ball\" + 0.016*\"like\" + 0.013*\"graphic\" + 0.012*\"screen\" + 0.012*\"jump\" + 0.011*\"sound\" + 0.009*\"music\" + 0.009*\"make\"\n",
      "Topic: 9 \n",
      "Words: 0.054*\"game\" + 0.028*\"player\" + 0.011*\"shoot\" + 0.011*\"kill\" + 0.010*\"match\" + 0.009*\"peopl\" + 0.008*\"weapon\" + 0.008*\"good\" + 0.007*\"team\" + 0.007*\"like\"\n"
     ]
    }
   ],
   "source": [
    "# negtive LDA  reviews analyse\n",
    "document = documentNeg\n",
    "doc_clean = [preprocess(doc) for doc in document]\n",
    "\n",
    "dictionary = corpora.Dictionary(doc_clean)\n",
    "\n",
    "# 使用上面的词典，将转换文档列表（语料）变成 DT 矩阵\n",
    "doc_term_matrix = [dictionary.doc2bow(doc) for doc in doc_clean]\n",
    "print('made doc_term_matrix')\n",
    "\n",
    "Lda = gensim.models.ldamodel.LdaModel\n",
    "print('object num',len(doc_term_matrix))\n",
    "start = time.time()\n",
    "lda_model = gensim.models.LdaMulticore(doc_term_matrix, num_topics=10, id2word=dictionary, passes=100, workers=4)\n",
    "# result = lda_model.print_topics(num_words=10)\n",
    "end = time.time()\n",
    "print ('Fitting Time:',end-start)\n",
    "for idx, topic in lda_model.print_topics(-1):\n",
    "    print('Topic: {} \\nWords: {}'.format(idx, topic))\n",
    "# print(result)"
   ]
  },
  {
   "cell_type": "code",
   "execution_count": 9,
   "metadata": {},
   "outputs": [
    {
     "name": "stdout",
     "output_type": "stream",
     "text": [
      "object num 238348\n",
      "Fitting Time: 4500.319480895996\n",
      "Topic: 0 \n",
      "Words: 0.136*\"game\" + 0.036*\"good\" + 0.032*\"play\" + 0.028*\"updat\" + 0.028*\"best\" + 0.023*\"awesom\" + 0.022*\"like\" + 0.018*\"version\" + 0.016*\"work\" + 0.015*\"thank\"\n",
      "Topic: 1 \n",
      "Words: 0.076*\"like\" + 0.070*\"game\" + 0.028*\"think\" + 0.026*\"cool\" + 0.026*\"thing\" + 0.023*\"charact\" + 0.020*\"mode\" + 0.019*\"differ\" + 0.016*\"mayb\" + 0.014*\"add\"\n",
      "Topic: 2 \n",
      "Words: 0.117*\"game\" + 0.059*\"great\" + 0.029*\"graphic\" + 0.027*\"good\" + 0.024*\"time\" + 0.020*\"control\" + 0.019*\"simpl\" + 0.017*\"play\" + 0.015*\"nice\" + 0.015*\"gameplay\"\n",
      "Topic: 3 \n",
      "Words: 0.031*\"kill\" + 0.031*\"weapon\" + 0.031*\"shoot\" + 0.028*\"jump\" + 0.022*\"upgrad\" + 0.020*\"player\" + 0.018*\"team\" + 0.018*\"boss\" + 0.014*\"bomb\" + 0.011*\"enemi\"\n",
      "Topic: 4 \n",
      "Words: 0.155*\"game\" + 0.117*\"play\" + 0.050*\"addict\" + 0.037*\"love\" + 0.031*\"time\" + 0.020*\"like\" + 0.018*\"stop\" + 0.015*\"recommend\" + 0.015*\"great\" + 0.015*\"download\"\n",
      "Topic: 5 \n",
      "Words: 0.171*\"level\" + 0.038*\"game\" + 0.033*\"challeng\" + 0.026*\"hard\" + 0.021*\"beat\" + 0.015*\"need\" + 0.014*\"like\" + 0.013*\"complet\" + 0.013*\"play\" + 0.013*\"time\"\n",
      "Topic: 6 \n",
      "Words: 0.045*\"game\" + 0.030*\"time\" + 0.021*\"crash\" + 0.020*\"problem\" + 0.019*\"play\" + 0.018*\"screen\" + 0.015*\"start\" + 0.015*\"go\" + 0.014*\"glitch\" + 0.014*\"updat\"\n",
      "Topic: 7 \n",
      "Words: 0.057*\"game\" + 0.027*\"money\" + 0.022*\"star\" + 0.019*\"like\" + 0.019*\"coin\" + 0.017*\"free\" + 0.017*\"bird\" + 0.014*\"purchas\" + 0.014*\"spend\" + 0.013*\"play\"\n",
      "Topic: 8 \n",
      "Words: 0.032*\"button\" + 0.030*\"race\" + 0.029*\"turn\" + 0.028*\"car\" + 0.027*\"music\" + 0.025*\"sound\" + 0.024*\"option\" + 0.017*\"need\" + 0.013*\"speed\" + 0.012*\"track\"\n",
      "Topic: 9 \n",
      "Words: 0.277*\"love\" + 0.124*\"game\" + 0.021*\"cute\" + 0.020*\"thank\" + 0.014*\"funni\" + 0.013*\"absolut\" + 0.011*\"favorit\" + 0.011*\"littl\" + 0.011*\"spin\" + 0.011*\"kid\"\n"
     ]
    }
   ],
   "source": [
    "# positive LDA reviews analyse\n",
    "document = documentPos\n",
    "doc_clean = [preprocess(doc) for doc in document]\n",
    "\n",
    "dictionary = corpora.Dictionary(doc_clean)\n",
    "# 使用上面的词典，将转换文档列表（语料）变成 DT 矩阵\n",
    "doc_term_matrix = [dictionary.doc2bow(doc) for doc in doc_clean]\n",
    "Lda = gensim.models.ldamodel.LdaModel\n",
    "print('object num',len(doc_term_matrix))\n",
    "start = time.time()\n",
    "lda_model = gensim.models.LdaMulticore(doc_term_matrix, num_topics=10, id2word=dictionary, passes=100, workers=4)\n",
    "# result = lda_model.print_topics(num_words=10)\n",
    "end = time.time()\n",
    "print ('Fitting Time:',end-start)\n",
    "for idx, topic in lda_model.print_topics(-1):\n",
    "    print('Topic: {} \\nWords: {}'.format(idx, topic))\n",
    "# print(result)"
   ]
  }
 ],
 "metadata": {
  "kernelspec": {
   "display_name": "Python 3",
   "language": "python",
   "name": "python3"
  },
  "language_info": {
   "codemirror_mode": {
    "name": "ipython",
    "version": 3
   },
   "file_extension": ".py",
   "mimetype": "text/x-python",
   "name": "python",
   "nbconvert_exporter": "python",
   "pygments_lexer": "ipython3",
   "version": "3.7.0"
  }
 },
 "nbformat": 4,
 "nbformat_minor": 2
}
